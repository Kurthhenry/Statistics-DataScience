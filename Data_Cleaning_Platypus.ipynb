{
  "nbformat": 4,
  "nbformat_minor": 0,
  "metadata": {
    "colab": {
      "provenance": [],
      "authorship_tag": "ABX9TyNiO7O7xSH70QYtAw/Kolaj",
      "include_colab_link": true
    },
    "kernelspec": {
      "name": "python3",
      "display_name": "Python 3"
    },
    "language_info": {
      "name": "python"
    }
  },
  "cells": [
    {
      "cell_type": "markdown",
      "metadata": {
        "id": "view-in-github",
        "colab_type": "text"
      },
      "source": [
        "<a href=\"https://colab.research.google.com/github/Kurthhenry/Statistics-DataScience/blob/main/Data_Cleaning_Platypus.ipynb\" target=\"_parent\"><img src=\"https://colab.research.google.com/assets/colab-badge.svg\" alt=\"Open In Colab\"/></a>"
      ]
    },
    {
      "cell_type": "markdown",
      "source": [
        "This file is showing the data cleaning of group **Platypus**."
      ],
      "metadata": {
        "id": "I4ipr1xta20A"
      }
    },
    {
      "cell_type": "code",
      "source": [
        "from google.colab import drive\n",
        "drive.mount('/content/drive')"
      ],
      "metadata": {
        "colab": {
          "base_uri": "https://localhost:8080/"
        },
        "id": "dOl6TObycg2O",
        "outputId": "bb987376-43f3-4f89-a478-e65420bbe991"
      },
      "execution_count": 1,
      "outputs": [
        {
          "output_type": "stream",
          "name": "stdout",
          "text": [
            "Mounted at /content/drive\n"
          ]
        }
      ]
    },
    {
      "cell_type": "markdown",
      "source": [
        "##Preliminary Specifications\n",
        "We import the packages that are needed for the data analysis."
      ],
      "metadata": {
        "id": "BBOj8twDeBnX"
      }
    },
    {
      "cell_type": "code",
      "source": [
        "import pandas as pd\n",
        "import matplotlib.pyplot as plt\n",
        "import seaborn as sns\n",
        "import numpy as np\n",
        "import warnings\n",
        "warnings.filterwarnings('ignore')"
      ],
      "metadata": {
        "id": "1l8JBf9WeAY7"
      },
      "execution_count": 2,
      "outputs": []
    },
    {
      "cell_type": "code",
      "source": [
        "#Set Directory\n",
        "directory = \"/content/drive/My Drive/Platypus\""
      ],
      "metadata": {
        "id": "_SCLQRD3bWpu"
      },
      "execution_count": 3,
      "outputs": []
    },
    {
      "cell_type": "markdown",
      "source": [
        "Now we must specify variables that delimit our sample of countries and the years we are looking at."
      ],
      "metadata": {
        "id": "UYb-zxwZhref"
      }
    },
    {
      "cell_type": "code",
      "source": [
        "path = \"/DATA/OECD/OECD_EPS.csv\"\n",
        "df = pd.read_csv(directory + path, index_col=False)\n",
        "\n",
        "#specification of year range\n",
        "year_range = list(range(1990,2021))\n",
        "year_range_2 = list(range(2000,2021))\n",
        "short_range = list(range(1985,1997))\n",
        "\n",
        "#Specification of Countries\n",
        "lis = list(df[\"Country\"].unique())\n",
        "lis.remove(\"Japan\")\n",
        "lis.remove(\"United States\")\n",
        "lis.remove(\"Canada\")\n",
        "lis.remove(\"Korea\")\n",
        "lis.remove(\"Australia\")\n",
        "lis.remove(\"South Africa\")\n",
        "lis.remove(\"China (People's Republic of)\")\n",
        "lis.remove(\"Indonesia\")\n",
        "lis.remove(\"Brazil\")\n",
        "lis.remove(\"India\")\n",
        "countrylist = lis\n",
        "\n",
        "\n",
        "#specification of 3l-CC\n",
        "lis = list(df[\"COU\"].unique())\n",
        "lis.remove(\"JPN\")\n",
        "lis.remove(\"USA\")\n",
        "lis.remove(\"CAN\")\n",
        "lis.remove(\"KOR\")\n",
        "lis.remove(\"AUS\")\n",
        "lis.remove(\"ZAF\")\n",
        "lis.remove(\"CHN\")\n",
        "lis.remove(\"IDN\")\n",
        "lis.remove(\"BRA\")\n",
        "lis.remove(\"IND\")\n",
        "cclist = lis\n",
        "\n",
        "countrymap = {\"Greece\":\"GRC\",\n",
        "\"Portugal\":\"PRT\",\n",
        "\"France\":\"FRA\",\n",
        "\"Belgium\":\"BEL\",\n",
        "\"Switzerland\":\"CHE\",\n",
        "\"Czech Republic\":\"CZE\",\n",
        "\"Denmark\":\"DNK\",\n",
        "\"Italy\":\"ITA\",\n",
        "\"Spain\":\"ESP\",\n",
        "\"Sweden\":\"SWE\",\n",
        "\"United Kingdom\":\"GBR\",\n",
        "\"Poland\":\"POL\",\n",
        "\"Netherlands\":\"NLD\",\n",
        "\"Ireland\":\"IRL\",\n",
        "\"Finland\":\"FIN\",\n",
        "\"Hungary\":\"HUN\",\n",
        "\"Germany\":\"DEU\",\n",
        "\"Norway\":\"NOR\",\n",
        "\"Slovak Republic\":\"SVK\",\n",
        "\"Austria\":\"AUT\",\n",
        "\"Turkey\":\"TUR\",\n",
        "\"Slovenia\":\"SVN\",\n",
        "\"Russia\":\"RUS\"}\n",
        "\n",
        "\"\"\"\n",
        "#west=0, neutral=1, east=2\n",
        "eastwestmap = {\"Greece\":0,\n",
        "\"Portugal\":0,\n",
        "\"France\":0,\n",
        "\"Belgium\":0,\n",
        "\"Switzerland\":1,\n",
        "\"Czech Republic\":2,\n",
        "\"Denmark\":0,\n",
        "\"Italy\":0,\n",
        "\"Spain\":0,\n",
        "\"Sweden\":1,\n",
        "\"United Kingdom\":0,\n",
        "\"Poland\":2,\n",
        "\"Netherlands\":0,\n",
        "\"Ireland\":1,\n",
        "\"Finland\":1,\n",
        "\"Hungary\":2,\n",
        "\"Germany\":0,\n",
        "\"Norway\":0,\n",
        "\"Slovak Republic\":2,\n",
        "\"Austria\":1,\n",
        "\"Turkey\":0,\n",
        "\"Slovenia\":2,\n",
        "\"Russia\":2}\"\"\"\n",
        "\n",
        "#west=0, east=1\n",
        "eastwestmap = {\"Greece\":0,\n",
        "\"Portugal\":0,\n",
        "\"France\":0,\n",
        "\"Belgium\":0,\n",
        "\"Switzerland\":0,\n",
        "\"Czech Republic\":1,\n",
        "\"Denmark\":0,\n",
        "\"Italy\":0,\n",
        "\"Spain\":0,\n",
        "\"Sweden\":0,\n",
        "\"United Kingdom\":0,\n",
        "\"Poland\":1,\n",
        "\"Netherlands\":0,\n",
        "\"Ireland\":0,\n",
        "\"Finland\":0,\n",
        "\"Hungary\":1,\n",
        "\"Germany\":0,\n",
        "\"Norway\":0,\n",
        "\"Slovak Republic\":1,\n",
        "\"Austria\":0,\n",
        "\"Turkey\":0,\n",
        "\"Slovenia\":1,\n",
        "\"Russia\":1}\n",
        "\n",
        "west = [\"GRC\", \"PRT\", \"FRA\", \"BEL\", \"DEN\", \"ITA\", \"ESP\", \"GBR\", \"NLD\", \"DEU\", \"NOR\", \"TUR\"]\n",
        "east = [\"CZE\", \"POL\", \"HUN\", \"SVK\", \"SVN\", \"RUS\"]"
      ],
      "metadata": {
        "id": "eL0drPl1h9LG"
      },
      "execution_count": 4,
      "outputs": []
    },
    {
      "cell_type": "markdown",
      "source": [
        "##Data Cleaning and Preparation\n",
        "Now that we have the initial specifications we need for the analysis, we can start with the import of the actual data and start cleaning it. We have data from different sources that are structured differently. We start with the data on countries' Environmental Policy Stringency Indices."
      ],
      "metadata": {
        "id": "aiKZ8NRziF6b"
      }
    },
    {
      "cell_type": "code",
      "source": [
        "#Dataframe: Environmental Policy Stringency\n",
        "path = \"/DATA/OECD/OECD_EPS.csv\"\n",
        "dfeps = pd.read_csv(directory + path, index_col=False)\n",
        "dfeps['Country'] = dfeps['Country'].replace('Türkiye', 'Turkey')\n",
        "dfeps = dfeps.loc[dfeps['Country'].isin(countrylist)]\n",
        "dfeps = dfeps.loc[dfeps['VAR'] == \"EPS\"]\n",
        "dfeps = dfeps.drop([\"Country\",\"VAR\",\"Variable\", \"YEA\", \"Unit Code\", \"Unit\", \"PowerCode Code\", \"PowerCode\", \"Reference Period Code\", \"Reference Period\", \"Flag Codes\", \"Flags\"], axis=1)\n",
        "dfeps.rename(columns={'COU': 'CC'}, inplace=True)\n",
        "dfeps.rename(columns={'Value': 'EPS'}, inplace=True)\n",
        "dfeps = dfeps.loc[dfeps['Year'].isin(year_range_2)]\n",
        "\n",
        "#test sample size:\n",
        "obs_eps = list(dfeps[\"CC\"].unique())\n",
        "\n",
        "#Export\n",
        "path = \"/OUT_df/EPS_cleaned.csv\"\n",
        "dfeps.to_csv(directory + path, index=False)"
      ],
      "metadata": {
        "id": "asAPQWUojN-a"
      },
      "execution_count": 5,
      "outputs": []
    },
    {
      "cell_type": "code",
      "source": [
        "#women in parliament dataframe (UIP)\n",
        "path = \"/DATA/IPU/WIP_IPU.xlsx\"\n",
        "dfww = pd.read_excel(directory + path)\n",
        "dfww = dfww.drop([\"Region\", \"Election / Renewal\", \"Month\", \"Chamber Total Seats\", \"Total women\"], axis=1)\n",
        "dfww['Country'] = dfww['Country'].replace('Slovakia', 'Slovak Republic')\n",
        "dfww = dfww.loc[dfww['Country'].isin(countrylist)]\n",
        "#obs_WIP = list(dfww[\"Country\"].unique())\n",
        "dfww = dfww[dfww['Chamber Type'] != 'Upper']\n",
        "dfww = dfww.drop([\"Chamber Type\", \"NOTES\"], axis=1)\n",
        "dfww.rename(columns={'% Of Women in Chamber': 'WIP'}, inplace=True)\n",
        "dfww = dfww.loc[dfww['Year'].isin(short_range)]\n",
        "\n",
        "all_years_countries = pd.DataFrame([(year, country) for year in range(1985, 1997) for country in countrylist], columns=['Year', 'Country'])\n",
        "merged_df = all_years_countries.merge(dfww, on=['Year', 'Country'], how='left')\n",
        "merged_df['WIP'] = merged_df.groupby('Country')['WIP'].fillna(method='ffill')\n",
        "dfww = merged_df\n",
        "dfww = dfww.loc[dfww['Year'].isin(year_range)]\n",
        "dfww['Country'] = dfww['Country'].map(countrymap)\n",
        "neworder = ['Country', 'Year', 'WIP']\n",
        "dfww = dfww[neworder]\n",
        "dfww.rename(columns={'Country': 'CC'}, inplace=True)\n",
        "dfww['WIP'] = dfww['WIP'] * 100\n",
        "\n",
        "\n",
        "#second WIP dataframe\n",
        "path = \"/DATA/OurWorldInData/womeninparliament.csv\"\n",
        "dfw = pd.read_csv(directory + path)\n",
        "#dfw[\"Code\"].unique()\n",
        "dfw.rename(columns={'Code': 'CC'}, inplace=True)\n",
        "dfw.rename(columns={'Proportion of seats held by women in national parliaments (%)': 'WIP'}, inplace=True)\n",
        "dfw = dfw.drop(\"Entity\", axis=1)\n",
        "dfw = dfw.loc[dfw['CC'].isin(cclist)]\n",
        "\n",
        "#Merging the two dataframes\n",
        "dfw_merged = pd.concat([dfw, dfww])\n",
        "dfw_merged = dfw_merged.sort_values(by=['CC',\"Year\"])\n",
        "dfw_merged = dfw_merged.reset_index(drop=True)\n",
        "dfw_merged[\"WIP\"] = dfw_merged[\"WIP\"].astype(float)\n",
        "dfw_merged = dfw_merged.loc[dfw_merged['Year'].isin(year_range_2)]\n",
        "#obs_WIP = list(dfw_merged[\"CC\"].unique())\n",
        "\n",
        "#Export\n",
        "path = \"/OUT_df/Share_WIP_Cleaned.csv\"\n",
        "dfw_merged.to_csv(directory + path, index=False)"
      ],
      "metadata": {
        "id": "8AQkUjW6jdFi"
      },
      "execution_count": 6,
      "outputs": []
    },
    {
      "cell_type": "code",
      "source": [
        "# dataframe for east - west blocks\n",
        "dfew = pd.DataFrame(list(eastwestmap.items()), columns=['Country', 'Block'])\n",
        "for year in range(1990, 2022):\n",
        "    dfew[str(year)] = dfew['Block']\n",
        "\n",
        "dfew.drop('Block', axis=1, inplace=True)\n",
        "dfew = pd.melt(dfew, id_vars=['Country'], var_name='Year', value_name='Block')\n",
        "dfew['Country'] = dfew['Country'].map(countrymap)\n",
        "dfew.rename(columns={'Country': 'CC'}, inplace=True)\n",
        "dfew = dfew.sort_values(by=['CC',\"Year\"])\n",
        "dfew = dfew.reset_index(drop=True)\n",
        "dfew[\"Year\"] = dfew[\"Year\"].astype(int)\n",
        "dfew = dfew.loc[dfew['Year'].isin(year_range_2)]\n",
        "#obs_ew = list(dfew[\"CC\"].unique())\n",
        "\n",
        "#Export\n",
        "path = \"/OUT_df/East_West_cleaned.csv\"\n",
        "dfew.to_csv(directory + path, index=False)"
      ],
      "metadata": {
        "id": "HN5yC25xkc5w"
      },
      "execution_count": 7,
      "outputs": []
    },
    {
      "cell_type": "code",
      "source": [
        "# dataframe for GDP per capita\n",
        "path = \"/DATA/OECD/GDP_pc.csv\"\n",
        "dfg = pd.read_csv(directory + path)\n",
        "dfg = dfg.drop([\"INDICATOR\", \"SUBJECT\", \"MEASURE\", \"FREQUENCY\", \"Flag Codes\"], axis=1)\n",
        "dfg.rename(columns={'LOCATION': 'CC', \"TIME\":\"Year\", \"Value\":\"GDPpc\"}, inplace=True)\n",
        "dfg = dfg.loc[dfg['CC'].isin(cclist)]\n",
        "dfg = dfg.loc[dfg['Year'].isin(year_range_2)]\n",
        "\n",
        "#Export\n",
        "path = \"/OUT_df/GDPpc_cleaned.csv\"\n",
        "dfg.to_csv(directory + path, index=False)"
      ],
      "metadata": {
        "id": "deEDdpKDkzwW"
      },
      "execution_count": 8,
      "outputs": []
    },
    {
      "cell_type": "code",
      "source": [
        "# dataframe for Education\n",
        "path = \"/DATA/OECD/Education.csv\"\n",
        "dfe = pd.read_csv(directory + path)\n",
        "dfe = dfe.drop([\"INDICATOR\", \"SUBJECT\", \"MEASURE\", \"FREQUENCY\", \"Flag Codes\"], axis=1)\n",
        "dfe.rename(columns={'LOCATION': 'CC', \"TIME\":\"Year\", \"Value\":\"Education\"}, inplace=True)\n",
        "dfe = dfe.loc[dfe['CC'].isin(cclist)]\n",
        "\n",
        "dfe_pivot = dfe.pivot(index='Year', columns='CC', values=\"Education\").reset_index()\n",
        "dfe_pivot = dfe_pivot.fillna(method='bfill')\n",
        "dfe_pivot = dfe_pivot.fillna(method='ffill')\n",
        "dfe = pd.melt(dfe_pivot, id_vars=['Year'], var_name='CC', value_name='Education')\n",
        "dfe = dfe.loc[dfe['Year'].isin(year_range_2)]\n",
        "neworder = ['CC', 'Year', \"Education\"]\n",
        "dfe = dfe[neworder]\n",
        "\n",
        "#Export\n",
        "path = \"/OUT_df/Education_cleaned.csv\"\n",
        "dfe.to_csv(directory + path, index=False)"
      ],
      "metadata": {
        "id": "Ze5a13c8k2BS"
      },
      "execution_count": 9,
      "outputs": []
    },
    {
      "cell_type": "markdown",
      "source": [
        "In this last step we now merge the individual data frames to one large data frame that contains all the values we need for the analysis."
      ],
      "metadata": {
        "id": "dxnyhlwQl62p"
      }
    },
    {
      "cell_type": "code",
      "source": [
        "#merging the dataframes\n",
        "dfew['Year'] = dfew['Year'].astype(int)\n",
        "merged = dfeps.merge(dfew, on=['CC', 'Year'])\n",
        "merged = merged.merge(dfw_merged, on=[\"CC\", \"Year\"], how= \"outer\")\n",
        "merged = merged.merge(dfg, on=[\"CC\", \"Year\"], how= \"outer\")\n",
        "merged = merged.merge(dfe, on=[\"CC\", \"Year\"], how= \"outer\")\n",
        "merged = merged[merged['Year'] != 2021]\n",
        "merged = merged[merged['Year'] != 2022]\n",
        "merged = merged.sort_values(by=['CC',\"Year\"])\n",
        "merged[\"WIP\"] = merged[\"WIP\"].fillna(method='bfill')\n",
        "neworder = ['CC', 'Year', 'EPS', \"WIP\", \"Block\", \"GDPpc\", \"Education\"]\n",
        "merged = merged[neworder]\n",
        "\n",
        "#merged[\"Education\"] = merged[\"Education\"].fillna(method='bfill')\n",
        "\n",
        "#export\n",
        "path = \"/OUT_df/final_df_cleaned.csv\"\n",
        "merged.to_csv(directory + path, index = False)"
      ],
      "metadata": {
        "id": "q88c7JQgl0sU"
      },
      "execution_count": 10,
      "outputs": []
    },
    {
      "cell_type": "markdown",
      "source": [
        "The final data frame we use for our analysis is *merged*, here created and exported in the last step of the data cleaning and preparation process."
      ],
      "metadata": {
        "id": "43VmLY2R07qT"
      }
    }
  ]
}